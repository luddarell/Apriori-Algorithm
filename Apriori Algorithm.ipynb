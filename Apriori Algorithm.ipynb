{
 "cells": [
  {
   "cell_type": "code",
   "execution_count": 37,
   "metadata": {},
   "outputs": [],
   "source": [
    "import pandas as pd"
   ]
  },
  {
   "cell_type": "markdown",
   "metadata": {},
   "source": [
    "## Import Raw Dataset Shop"
   ]
  },
  {
   "cell_type": "code",
   "execution_count": 38,
   "metadata": {},
   "outputs": [
    {
     "data": {
      "text/html": [
       "<div>\n",
       "<style scoped>\n",
       "    .dataframe tbody tr th:only-of-type {\n",
       "        vertical-align: middle;\n",
       "    }\n",
       "\n",
       "    .dataframe tbody tr th {\n",
       "        vertical-align: top;\n",
       "    }\n",
       "\n",
       "    .dataframe thead th {\n",
       "        text-align: right;\n",
       "    }\n",
       "</style>\n",
       "<table border=\"1\" class=\"dataframe\">\n",
       "  <thead>\n",
       "    <tr style=\"text-align: right;\">\n",
       "      <th></th>\n",
       "      <th>tid</th>\n",
       "      <th>items</th>\n",
       "    </tr>\n",
       "  </thead>\n",
       "  <tbody>\n",
       "    <tr>\n",
       "      <th>0</th>\n",
       "      <td>1</td>\n",
       "      <td>Kemeja,Kaos</td>\n",
       "    </tr>\n",
       "    <tr>\n",
       "      <th>1</th>\n",
       "      <td>2</td>\n",
       "      <td>Jeans</td>\n",
       "    </tr>\n",
       "    <tr>\n",
       "      <th>2</th>\n",
       "      <td>3</td>\n",
       "      <td>Jeans,Sendal</td>\n",
       "    </tr>\n",
       "    <tr>\n",
       "      <th>3</th>\n",
       "      <td>4</td>\n",
       "      <td>Sepatu,Jeans</td>\n",
       "    </tr>\n",
       "    <tr>\n",
       "      <th>4</th>\n",
       "      <td>5</td>\n",
       "      <td>Sepatu</td>\n",
       "    </tr>\n",
       "    <tr>\n",
       "      <th>5</th>\n",
       "      <td>6</td>\n",
       "      <td>Kemeja,Sendal,Kaos</td>\n",
       "    </tr>\n",
       "    <tr>\n",
       "      <th>6</th>\n",
       "      <td>7</td>\n",
       "      <td>Kaos,Jeans,Kemeja</td>\n",
       "    </tr>\n",
       "    <tr>\n",
       "      <th>7</th>\n",
       "      <td>8</td>\n",
       "      <td>Sepatu,Kaos,Kemeja</td>\n",
       "    </tr>\n",
       "    <tr>\n",
       "      <th>8</th>\n",
       "      <td>9</td>\n",
       "      <td>Kaos,Jeans,Kemeja,Sendal</td>\n",
       "    </tr>\n",
       "    <tr>\n",
       "      <th>9</th>\n",
       "      <td>10</td>\n",
       "      <td>Sepatu,Sendal,Kaos,Kemeja</td>\n",
       "    </tr>\n",
       "    <tr>\n",
       "      <th>10</th>\n",
       "      <td>11</td>\n",
       "      <td>Kemeja,Jeans</td>\n",
       "    </tr>\n",
       "    <tr>\n",
       "      <th>11</th>\n",
       "      <td>12</td>\n",
       "      <td>Sendal,Kemeja</td>\n",
       "    </tr>\n",
       "    <tr>\n",
       "      <th>12</th>\n",
       "      <td>13</td>\n",
       "      <td>Sendal</td>\n",
       "    </tr>\n",
       "    <tr>\n",
       "      <th>13</th>\n",
       "      <td>14</td>\n",
       "      <td>Sendal,Jeans</td>\n",
       "    </tr>\n",
       "    <tr>\n",
       "      <th>14</th>\n",
       "      <td>15</td>\n",
       "      <td>Sepatu,Jeans,Kemeja</td>\n",
       "    </tr>\n",
       "  </tbody>\n",
       "</table>\n",
       "</div>"
      ],
      "text/plain": [
       "    tid                      items\n",
       "0     1                Kemeja,Kaos\n",
       "1     2                      Jeans\n",
       "2     3               Jeans,Sendal\n",
       "3     4               Sepatu,Jeans\n",
       "4     5                     Sepatu\n",
       "5     6         Kemeja,Sendal,Kaos\n",
       "6     7          Kaos,Jeans,Kemeja\n",
       "7     8         Sepatu,Kaos,Kemeja\n",
       "8     9   Kaos,Jeans,Kemeja,Sendal\n",
       "9    10  Sepatu,Sendal,Kaos,Kemeja\n",
       "10   11               Kemeja,Jeans\n",
       "11   12              Sendal,Kemeja\n",
       "12   13                     Sendal\n",
       "13   14               Sendal,Jeans\n",
       "14   15        Sepatu,Jeans,Kemeja"
      ]
     },
     "execution_count": 38,
     "metadata": {},
     "output_type": "execute_result"
    }
   ],
   "source": [
    "raw_data=pd.read_csv('dataset_shop.csv')\n",
    "raw_data"
   ]
  },
  {
   "cell_type": "code",
   "execution_count": 39,
   "metadata": {},
   "outputs": [
    {
     "data": {
      "text/plain": [
       "0                     [Kemeja, Kaos]\n",
       "1                            [Jeans]\n",
       "2                    [Jeans, Sendal]\n",
       "3                    [Sepatu, Jeans]\n",
       "4                           [Sepatu]\n",
       "5             [Kemeja, Sendal, Kaos]\n",
       "6              [Kaos, Jeans, Kemeja]\n",
       "7             [Sepatu, Kaos, Kemeja]\n",
       "8      [Kaos, Jeans, Kemeja, Sendal]\n",
       "9     [Sepatu, Sendal, Kaos, Kemeja]\n",
       "10                   [Kemeja, Jeans]\n",
       "11                  [Sendal, Kemeja]\n",
       "12                          [Sendal]\n",
       "13                   [Sendal, Jeans]\n",
       "14           [Sepatu, Jeans, Kemeja]\n",
       "Name: items, dtype: object"
      ]
     },
     "execution_count": 39,
     "metadata": {},
     "output_type": "execute_result"
    }
   ],
   "source": [
    "cm_seperate=raw_data['items'].apply(lambda x: x.split(','))\n",
    "cm_seperate"
   ]
  },
  {
   "cell_type": "markdown",
   "metadata": {},
   "source": [
    "# Convert String to Number"
   ]
  },
  {
   "cell_type": "code",
   "execution_count": 40,
   "metadata": {},
   "outputs": [
    {
     "data": {
      "text/plain": [
       "{'Kemeja': 1, 'Kaos': 2, 'Jeans': 3, 'Sepatu': 4, 'Sendal': 5}"
      ]
     },
     "execution_count": 40,
     "metadata": {},
     "output_type": "execute_result"
    }
   ],
   "source": [
    "\n",
    "item_name = ['Kemeja','Kaos','Jeans','Sepatu','Sendal']\n",
    "item_no = [1, 2, 3, 4, 5]\n",
    "recodes=dict(zip(item_name, item_no))\n",
    "recodes"
   ]
  },
  {
   "cell_type": "code",
   "execution_count": 41,
   "metadata": {},
   "outputs": [
    {
     "data": {
      "text/plain": [
       "[[1, 2],\n",
       " [3],\n",
       " [3, 5],\n",
       " [4, 3],\n",
       " [4],\n",
       " [1, 5, 2],\n",
       " [2, 3, 1],\n",
       " [4, 2, 1],\n",
       " [2, 3, 1, 5],\n",
       " [4, 5, 2, 1],\n",
       " [1, 3],\n",
       " [5, 1],\n",
       " [5],\n",
       " [5, 3],\n",
       " [4, 3, 1]]"
      ]
     },
     "execution_count": 41,
     "metadata": {},
     "output_type": "execute_result"
    }
   ],
   "source": [
    "listNumberedItems=[]\n",
    "for i in range(len(cm_seperate)):\n",
    "    numbered_list=list(map(lambda x:recodes[x], cm_seperate[i]))\n",
    "    listNumberedItems.append(numbered_list)   \n",
    "listNumberedItems"
   ]
  },
  {
   "cell_type": "code",
   "execution_count": 42,
   "metadata": {},
   "outputs": [
    {
     "data": {
      "text/html": [
       "<div>\n",
       "<style scoped>\n",
       "    .dataframe tbody tr th:only-of-type {\n",
       "        vertical-align: middle;\n",
       "    }\n",
       "\n",
       "    .dataframe tbody tr th {\n",
       "        vertical-align: top;\n",
       "    }\n",
       "\n",
       "    .dataframe thead th {\n",
       "        text-align: right;\n",
       "    }\n",
       "</style>\n",
       "<table border=\"1\" class=\"dataframe\">\n",
       "  <thead>\n",
       "    <tr style=\"text-align: right;\">\n",
       "      <th></th>\n",
       "      <th>tid</th>\n",
       "      <th>items</th>\n",
       "    </tr>\n",
       "  </thead>\n",
       "  <tbody>\n",
       "    <tr>\n",
       "      <th>0</th>\n",
       "      <td>1</td>\n",
       "      <td>[1, 2]</td>\n",
       "    </tr>\n",
       "    <tr>\n",
       "      <th>1</th>\n",
       "      <td>2</td>\n",
       "      <td>[3]</td>\n",
       "    </tr>\n",
       "    <tr>\n",
       "      <th>2</th>\n",
       "      <td>3</td>\n",
       "      <td>[3, 5]</td>\n",
       "    </tr>\n",
       "    <tr>\n",
       "      <th>3</th>\n",
       "      <td>4</td>\n",
       "      <td>[4, 3]</td>\n",
       "    </tr>\n",
       "    <tr>\n",
       "      <th>4</th>\n",
       "      <td>5</td>\n",
       "      <td>[4]</td>\n",
       "    </tr>\n",
       "    <tr>\n",
       "      <th>5</th>\n",
       "      <td>6</td>\n",
       "      <td>[1, 5, 2]</td>\n",
       "    </tr>\n",
       "    <tr>\n",
       "      <th>6</th>\n",
       "      <td>7</td>\n",
       "      <td>[2, 3, 1]</td>\n",
       "    </tr>\n",
       "    <tr>\n",
       "      <th>7</th>\n",
       "      <td>8</td>\n",
       "      <td>[4, 2, 1]</td>\n",
       "    </tr>\n",
       "    <tr>\n",
       "      <th>8</th>\n",
       "      <td>9</td>\n",
       "      <td>[2, 3, 1, 5]</td>\n",
       "    </tr>\n",
       "    <tr>\n",
       "      <th>9</th>\n",
       "      <td>10</td>\n",
       "      <td>[4, 5, 2, 1]</td>\n",
       "    </tr>\n",
       "    <tr>\n",
       "      <th>10</th>\n",
       "      <td>11</td>\n",
       "      <td>[1, 3]</td>\n",
       "    </tr>\n",
       "    <tr>\n",
       "      <th>11</th>\n",
       "      <td>12</td>\n",
       "      <td>[5, 1]</td>\n",
       "    </tr>\n",
       "    <tr>\n",
       "      <th>12</th>\n",
       "      <td>13</td>\n",
       "      <td>[5]</td>\n",
       "    </tr>\n",
       "    <tr>\n",
       "      <th>13</th>\n",
       "      <td>14</td>\n",
       "      <td>[5, 3]</td>\n",
       "    </tr>\n",
       "    <tr>\n",
       "      <th>14</th>\n",
       "      <td>15</td>\n",
       "      <td>[4, 3, 1]</td>\n",
       "    </tr>\n",
       "  </tbody>\n",
       "</table>\n",
       "</div>"
      ],
      "text/plain": [
       "    tid         items\n",
       "0     1        [1, 2]\n",
       "1     2           [3]\n",
       "2     3        [3, 5]\n",
       "3     4        [4, 3]\n",
       "4     5           [4]\n",
       "5     6     [1, 5, 2]\n",
       "6     7     [2, 3, 1]\n",
       "7     8     [4, 2, 1]\n",
       "8     9  [2, 3, 1, 5]\n",
       "9    10  [4, 5, 2, 1]\n",
       "10   11        [1, 3]\n",
       "11   12        [5, 1]\n",
       "12   13           [5]\n",
       "13   14        [5, 3]\n",
       "14   15     [4, 3, 1]"
      ]
     },
     "execution_count": 42,
     "metadata": {},
     "output_type": "execute_result"
    }
   ],
   "source": [
    "data=raw_data.copy()\n",
    "data['items']=listNumberedItems\n",
    "data"
   ]
  },
  {
   "cell_type": "markdown",
   "metadata": {},
   "source": [
    "# Create First C"
   ]
  },
  {
   "cell_type": "code",
   "execution_count": 43,
   "metadata": {},
   "outputs": [],
   "source": [
    "list_C, list_L = [], []"
   ]
  },
  {
   "cell_type": "code",
   "execution_count": 44,
   "metadata": {},
   "outputs": [],
   "source": [
    "def countItemSet(itemSet):\n",
    "    itemSet['Support'] = 0\n",
    "    for row in data['items']:\n",
    "        for index, item in enumerate(itemSet['ItemSet']):\n",
    "            if len(item) > len(row):\n",
    "                continue\n",
    "            if all(elem in row for elem in item):\n",
    "                itemSet.loc[index, 'Support'] += 1\n",
    "    return itemSet"
   ]
  },
  {
   "cell_type": "code",
   "execution_count": 45,
   "metadata": {},
   "outputs": [
    {
     "data": {
      "text/html": [
       "<div>\n",
       "<style scoped>\n",
       "    .dataframe tbody tr th:only-of-type {\n",
       "        vertical-align: middle;\n",
       "    }\n",
       "\n",
       "    .dataframe tbody tr th {\n",
       "        vertical-align: top;\n",
       "    }\n",
       "\n",
       "    .dataframe thead th {\n",
       "        text-align: right;\n",
       "    }\n",
       "</style>\n",
       "<table border=\"1\" class=\"dataframe\">\n",
       "  <thead>\n",
       "    <tr style=\"text-align: right;\">\n",
       "      <th></th>\n",
       "      <th>ItemSet</th>\n",
       "    </tr>\n",
       "  </thead>\n",
       "  <tbody>\n",
       "    <tr>\n",
       "      <th>0</th>\n",
       "      <td>[1]</td>\n",
       "    </tr>\n",
       "    <tr>\n",
       "      <th>1</th>\n",
       "      <td>[2]</td>\n",
       "    </tr>\n",
       "    <tr>\n",
       "      <th>2</th>\n",
       "      <td>[3]</td>\n",
       "    </tr>\n",
       "    <tr>\n",
       "      <th>3</th>\n",
       "      <td>[4]</td>\n",
       "    </tr>\n",
       "    <tr>\n",
       "      <th>4</th>\n",
       "      <td>[5]</td>\n",
       "    </tr>\n",
       "  </tbody>\n",
       "</table>\n",
       "</div>"
      ],
      "text/plain": [
       "  ItemSet\n",
       "0     [1]\n",
       "1     [2]\n",
       "2     [3]\n",
       "3     [4]\n",
       "4     [5]"
      ]
     },
     "execution_count": 45,
     "metadata": {},
     "output_type": "execute_result"
    }
   ],
   "source": [
    "item_set = [item_no]\n",
    "item_set = list(map(list, zip(*item_set)))\n",
    "list_C.append(pd.DataFrame({'ItemSet':item_set}))\n",
    "\n",
    "list_C[0]"
   ]
  },
  {
   "cell_type": "code",
   "execution_count": 46,
   "metadata": {},
   "outputs": [
    {
     "data": {
      "text/html": [
       "<div>\n",
       "<style scoped>\n",
       "    .dataframe tbody tr th:only-of-type {\n",
       "        vertical-align: middle;\n",
       "    }\n",
       "\n",
       "    .dataframe tbody tr th {\n",
       "        vertical-align: top;\n",
       "    }\n",
       "\n",
       "    .dataframe thead th {\n",
       "        text-align: right;\n",
       "    }\n",
       "</style>\n",
       "<table border=\"1\" class=\"dataframe\">\n",
       "  <thead>\n",
       "    <tr style=\"text-align: right;\">\n",
       "      <th></th>\n",
       "      <th>ItemSet</th>\n",
       "      <th>Support</th>\n",
       "    </tr>\n",
       "  </thead>\n",
       "  <tbody>\n",
       "    <tr>\n",
       "      <th>0</th>\n",
       "      <td>[1]</td>\n",
       "      <td>9</td>\n",
       "    </tr>\n",
       "    <tr>\n",
       "      <th>1</th>\n",
       "      <td>[2]</td>\n",
       "      <td>6</td>\n",
       "    </tr>\n",
       "    <tr>\n",
       "      <th>2</th>\n",
       "      <td>[3]</td>\n",
       "      <td>8</td>\n",
       "    </tr>\n",
       "    <tr>\n",
       "      <th>3</th>\n",
       "      <td>[4]</td>\n",
       "      <td>5</td>\n",
       "    </tr>\n",
       "    <tr>\n",
       "      <th>4</th>\n",
       "      <td>[5]</td>\n",
       "      <td>7</td>\n",
       "    </tr>\n",
       "  </tbody>\n",
       "</table>\n",
       "</div>"
      ],
      "text/plain": [
       "  ItemSet  Support\n",
       "0     [1]        9\n",
       "1     [2]        6\n",
       "2     [3]        8\n",
       "3     [4]        5\n",
       "4     [5]        7"
      ]
     },
     "execution_count": 46,
     "metadata": {},
     "output_type": "execute_result"
    }
   ],
   "source": [
    "list_C[0] = countItemSet(list_C[0])\n",
    "list_C[0]"
   ]
  },
  {
   "cell_type": "code",
   "execution_count": 47,
   "metadata": {},
   "outputs": [
    {
     "data": {
      "text/plain": [
       "5"
      ]
     },
     "execution_count": 47,
     "metadata": {},
     "output_type": "execute_result"
    }
   ],
   "source": [
    "len(list_C[0])"
   ]
  },
  {
   "cell_type": "markdown",
   "metadata": {},
   "source": [
    "# Create Secondary ItemSet"
   ]
  },
  {
   "cell_type": "code",
   "execution_count": 48,
   "metadata": {},
   "outputs": [
    {
     "name": "stdout",
     "output_type": "stream",
     "text": [
      "3\n"
     ]
    }
   ],
   "source": [
    "minimumSupport = int(input())"
   ]
  },
  {
   "cell_type": "code",
   "execution_count": 49,
   "metadata": {},
   "outputs": [],
   "source": [
    "def removeLowestItemSet(C):\n",
    "    global minimumSupport\n",
    "    # minimumSupport = C['Support'].min()\n",
    "    while C['Support'].min() < minimumSupport:\n",
    "        C = C.drop(C['Support'].idxmin())\n",
    "    return C"
   ]
  },
  {
   "cell_type": "code",
   "execution_count": 50,
   "metadata": {},
   "outputs": [
    {
     "data": {
      "text/html": [
       "<div>\n",
       "<style scoped>\n",
       "    .dataframe tbody tr th:only-of-type {\n",
       "        vertical-align: middle;\n",
       "    }\n",
       "\n",
       "    .dataframe tbody tr th {\n",
       "        vertical-align: top;\n",
       "    }\n",
       "\n",
       "    .dataframe thead th {\n",
       "        text-align: right;\n",
       "    }\n",
       "</style>\n",
       "<table border=\"1\" class=\"dataframe\">\n",
       "  <thead>\n",
       "    <tr style=\"text-align: right;\">\n",
       "      <th></th>\n",
       "      <th>ItemSet</th>\n",
       "      <th>Support</th>\n",
       "    </tr>\n",
       "  </thead>\n",
       "  <tbody>\n",
       "    <tr>\n",
       "      <th>0</th>\n",
       "      <td>[1]</td>\n",
       "      <td>9</td>\n",
       "    </tr>\n",
       "    <tr>\n",
       "      <th>1</th>\n",
       "      <td>[2]</td>\n",
       "      <td>6</td>\n",
       "    </tr>\n",
       "    <tr>\n",
       "      <th>2</th>\n",
       "      <td>[3]</td>\n",
       "      <td>8</td>\n",
       "    </tr>\n",
       "    <tr>\n",
       "      <th>3</th>\n",
       "      <td>[4]</td>\n",
       "      <td>5</td>\n",
       "    </tr>\n",
       "    <tr>\n",
       "      <th>4</th>\n",
       "      <td>[5]</td>\n",
       "      <td>7</td>\n",
       "    </tr>\n",
       "  </tbody>\n",
       "</table>\n",
       "</div>"
      ],
      "text/plain": [
       "  ItemSet  Support\n",
       "0     [1]        9\n",
       "1     [2]        6\n",
       "2     [3]        8\n",
       "3     [4]        5\n",
       "4     [5]        7"
      ]
     },
     "execution_count": 50,
     "metadata": {},
     "output_type": "execute_result"
    }
   ],
   "source": [
    "list_C[-1]"
   ]
  },
  {
   "cell_type": "code",
   "execution_count": 51,
   "metadata": {},
   "outputs": [],
   "source": [
    "def findNextC(L):\n",
    "    itemSetBefore = L['ItemSet']\n",
    "    itemSet = []\n",
    "    for i in range(len(L['ItemSet']) - 1):\n",
    "        item = L['ItemSet'].iloc[i]\n",
    "        for j in range(i+1, len(L['ItemSet'])):\n",
    "            row = item.copy()\n",
    "            for k in range(len(item)):\n",
    "                if item[k] == L['ItemSet'].iloc[j][k] :\n",
    "                    continue\n",
    "                elif k == len(item) - 1:\n",
    "                    if item[k] < L['ItemSet'].iloc[j][k]:\n",
    "                        row.append(L['ItemSet'].iloc[j][k])\n",
    "                        #print(\"added row \", row)\n",
    "                else:\n",
    "                    break\n",
    "            if len(row) == len(item) + 1:\n",
    "                itemSet.append(row)\n",
    "    newItemSet = pd.DataFrame({'ItemSet':itemSet})\n",
    "    return newItemSet"
   ]
  },
  {
   "cell_type": "code",
   "execution_count": 52,
   "metadata": {},
   "outputs": [],
   "source": [
    "def validate_item_set(C):\n",
    "    validated_item_set = []\n",
    "    for row in C['ItemSet']:\n",
    "        #print(row)\n",
    "        for numberedItem in listNumberedItems:\n",
    "            if all(elem in numberedItem for elem in row):   \n",
    "                validated_item_set.append(row)\n",
    "                break\n",
    "    newItemSet = pd.DataFrame({'ItemSet':validated_item_set})\n",
    "    return newItemSet"
   ]
  },
  {
   "cell_type": "code",
   "execution_count": 53,
   "metadata": {},
   "outputs": [
    {
     "data": {
      "text/html": [
       "<div>\n",
       "<style scoped>\n",
       "    .dataframe tbody tr th:only-of-type {\n",
       "        vertical-align: middle;\n",
       "    }\n",
       "\n",
       "    .dataframe tbody tr th {\n",
       "        vertical-align: top;\n",
       "    }\n",
       "\n",
       "    .dataframe thead th {\n",
       "        text-align: right;\n",
       "    }\n",
       "</style>\n",
       "<table border=\"1\" class=\"dataframe\">\n",
       "  <thead>\n",
       "    <tr style=\"text-align: right;\">\n",
       "      <th></th>\n",
       "      <th>ItemSet</th>\n",
       "      <th>Support</th>\n",
       "    </tr>\n",
       "  </thead>\n",
       "  <tbody>\n",
       "    <tr>\n",
       "      <th>0</th>\n",
       "      <td>[1]</td>\n",
       "      <td>9</td>\n",
       "    </tr>\n",
       "    <tr>\n",
       "      <th>1</th>\n",
       "      <td>[2]</td>\n",
       "      <td>6</td>\n",
       "    </tr>\n",
       "    <tr>\n",
       "      <th>2</th>\n",
       "      <td>[3]</td>\n",
       "      <td>8</td>\n",
       "    </tr>\n",
       "    <tr>\n",
       "      <th>3</th>\n",
       "      <td>[4]</td>\n",
       "      <td>5</td>\n",
       "    </tr>\n",
       "    <tr>\n",
       "      <th>4</th>\n",
       "      <td>[5]</td>\n",
       "      <td>7</td>\n",
       "    </tr>\n",
       "  </tbody>\n",
       "</table>\n",
       "</div>"
      ],
      "text/plain": [
       "  ItemSet  Support\n",
       "0     [1]        9\n",
       "1     [2]        6\n",
       "2     [3]        8\n",
       "3     [4]        5\n",
       "4     [5]        7"
      ]
     },
     "execution_count": 53,
     "metadata": {},
     "output_type": "execute_result"
    }
   ],
   "source": [
    "list_C[0]"
   ]
  },
  {
   "cell_type": "code",
   "execution_count": 54,
   "metadata": {},
   "outputs": [],
   "source": [
    "while True:\n",
    "    new_L = removeLowestItemSet(list_C[-1])\n",
    "    list_L.append(new_L)\n",
    "    if len(new_L) <= 1:\n",
    "        break\n",
    "    #print(list_L[-1])\n",
    "    \n",
    "    new_C = findNextC(list_L[-1])\n",
    "    new_C = validate_item_set(new_C)\n",
    "    new_C = countItemSet(new_C)\n",
    "    #print(new_C)\n",
    "    list_C.append(new_C)"
   ]
  },
  {
   "cell_type": "code",
   "execution_count": 55,
   "metadata": {},
   "outputs": [
    {
     "name": "stdout",
     "output_type": "stream",
     "text": [
      "  ItemSet  Support\n",
      "0     [1]        9\n",
      "1     [2]        6\n",
      "2     [3]        8\n",
      "3     [4]        5\n",
      "4     [5]        7\n",
      "  ItemSet  Support\n",
      "0  [1, 2]        6\n",
      "1  [1, 3]        4\n",
      "2  [1, 4]        3\n",
      "3  [1, 5]        4\n",
      "4  [2, 3]        2\n",
      "5  [2, 4]        2\n",
      "6  [2, 5]        3\n",
      "7  [3, 4]        2\n",
      "8  [3, 5]        3\n",
      "9  [4, 5]        1\n",
      "     ItemSet  Support\n",
      "0  [1, 2, 3]        2\n",
      "1  [1, 2, 4]        2\n",
      "2  [1, 2, 5]        3\n",
      "3  [1, 3, 4]        1\n",
      "4  [1, 3, 5]        1\n",
      "5  [1, 4, 5]        1\n"
     ]
    }
   ],
   "source": [
    "for row in list_C:\n",
    "    print(row)"
   ]
  },
  {
   "cell_type": "code",
   "execution_count": 56,
   "metadata": {},
   "outputs": [
    {
     "name": "stdout",
     "output_type": "stream",
     "text": [
      "  ItemSet  Support\n",
      "0     [1]        9\n",
      "1     [2]        6\n",
      "2     [3]        8\n",
      "3     [4]        5\n",
      "4     [5]        7\n",
      "  ItemSet  Support\n",
      "0  [1, 2]        6\n",
      "1  [1, 3]        4\n",
      "2  [1, 4]        3\n",
      "3  [1, 5]        4\n",
      "6  [2, 5]        3\n",
      "8  [3, 5]        3\n",
      "     ItemSet  Support\n",
      "2  [1, 2, 5]        3\n"
     ]
    }
   ],
   "source": [
    "for row in list_L:\n",
    "    print(row)"
   ]
  }
 ],
 "metadata": {
  "kernelspec": {
   "display_name": "Python 3",
   "language": "python",
   "name": "python3"
  },
  "language_info": {
   "codemirror_mode": {
    "name": "ipython",
    "version": 3
   },
   "file_extension": ".py",
   "mimetype": "text/x-python",
   "name": "python",
   "nbconvert_exporter": "python",
   "pygments_lexer": "ipython3",
   "version": "3.7.1"
  }
 },
 "nbformat": 4,
 "nbformat_minor": 2
}
