{
 "cells": [
  {
   "cell_type": "code",
   "execution_count": null,
   "metadata": {
    "collapsed": true
   },
   "outputs": [],
   "source": [
    "import pandas as pd"
   ]
  },
  {
   "cell_type": "markdown",
   "metadata": {},
   "source": [
    "## Import Raw Dataset Shop"
   ]
  },
  {
   "cell_type": "code",
   "execution_count": null,
   "metadata": {},
   "outputs": [],
   "source": [
    "raw_data=pd.read_csv('dataset_shop.csv')\n",
    "raw_data"
   ]
  },
  {
   "cell_type": "code",
   "execution_count": null,
   "metadata": {},
   "outputs": [],
   "source": [
    "cm_seperate=raw_data['items'].apply(lambda x: x.split(','))\n",
    "cm_seperate"
   ]
  },
  {
   "cell_type": "markdown",
   "metadata": {},
   "source": [
    "# Convert String to Number"
   ]
  },
  {
   "cell_type": "code",
   "execution_count": null,
   "metadata": {},
   "outputs": [],
   "source": [
    "item_name = ['Kemeja','Kaos','Jeans','Sepatu','Sendal']\n",
    "item_no = [1, 2, 3, 4, 5]\n",
    "recodes=dict(zip(item_name, item_no))"
   ]
  },
  {
   "cell_type": "code",
   "execution_count": null,
   "metadata": {},
   "outputs": [],
   "source": [
    "listNumberedItems=[]\n",
    "for i in range(len(cm_seperate)):\n",
    "    numbered_list=list(map(lambda x:recodes[x],cm_seperate[i]))\n",
    "    listNumberedItems.append(numbered_list)   \n",
    "listNumberedItems"
   ]
  },
  {
   "cell_type": "code",
   "execution_count": null,
   "metadata": {},
   "outputs": [],
   "source": [
    "data=raw_data.copy()\n",
    "data['items']=listNumberedItems\n",
    "data"
   ]
  },
  {
   "cell_type": "markdown",
   "metadata": {},
   "source": [
    "# Create First C"
   ]
  },
  {
   "cell_type": "code",
   "execution_count": null,
   "metadata": {
    "collapsed": true
   },
   "outputs": [],
   "source": [
    "list_C, list_L = [], []"
   ]
  },
  {
   "cell_type": "code",
   "execution_count": null,
   "metadata": {
    "collapsed": true
   },
   "outputs": [],
   "source": [
    "def countItemSet(itemSet):\n",
    "    itemSet['Support'] = 0\n",
    "    for row in data['items']:\n",
    "        for index, item in enumerate(itemSet['ItemSet']):\n",
    "            if len(item) > len(row):\n",
    "                continue\n",
    "            if all(elem in row for elem in item):\n",
    "                itemSet.loc[index, 'Support'] += 1\n",
    "    return itemSet"
   ]
  },
  {
   "cell_type": "code",
   "execution_count": null,
   "metadata": {},
   "outputs": [],
   "source": [
    "item_set = [item_no]\n",
    "item_set = list(map(list, zip(*item_set)))\n",
    "list_C.append(pd.DataFrame({'ItemSet':item_set}))\n",
    "list_C[0] = countItemSet(list_C[0])\n",
    "list_C[0]"
   ]
  },
  {
   "cell_type": "code",
   "execution_count": null,
   "metadata": {},
   "outputs": [],
   "source": [
    "len(list_C[0])"
   ]
  },
  {
   "cell_type": "markdown",
   "metadata": {},
   "source": [
    "# Create Secondary ItemSet"
   ]
  },
  {
   "cell_type": "code",
   "execution_count": null,
   "metadata": {},
   "outputs": [],
   "source": [
    "minimumSupport = int(input())"
   ]
  },
  {
   "cell_type": "code",
   "execution_count": null,
   "metadata": {
    "collapsed": true
   },
   "outputs": [],
   "source": [
    "def removeLowestItemSet(C):\n",
    "    global minimumSupport\n",
    "    # minimumSupport = C['Support'].min()\n",
    "    while C['Support'].min() <= minimumSupport:\n",
    "        C = C.drop(C['Support'].idxmin())\n",
    "    return C"
   ]
  },
  {
   "cell_type": "code",
   "execution_count": null,
   "metadata": {
    "collapsed": true
   },
   "outputs": [],
   "source": [
    "def findNextC(L):\n",
    "    itemSetBefore = L['ItemSet']\n",
    "    itemSet = []\n",
    "    for i in range(len(L['ItemSet']) - 1):\n",
    "        item = L['ItemSet'].iloc[i]\n",
    "        for j in range(i+1, len(L['ItemSet'])):\n",
    "            row = item.copy()\n",
    "            for k in range(len(item)):\n",
    "                if item[k] == L['ItemSet'].iloc[j][k] :\n",
    "                    continue\n",
    "                elif k == len(item) - 1:\n",
    "                    if item[k] < L['ItemSet'].iloc[j][k]:\n",
    "                        row.append(L['ItemSet'].iloc[j][k])\n",
    "                else:\n",
    "                    break\n",
    "            if len(row) == len(item) + 1:\n",
    "                itemSet.append(row)\n",
    "    newItemSet = pd.DataFrame({'ItemSet':itemSet})\n",
    "    return newItemSet"
   ]
  },
  {
   "cell_type": "code",
   "execution_count": null,
   "metadata": {
    "collapsed": true
   },
   "outputs": [],
   "source": [
    "def validate_item_set(C):\n",
    "    validated_item_set = []\n",
    "    for row in C['ItemSet']:\n",
    "        #print(row)\n",
    "        for numberedItem in listNumberedItems:\n",
    "            if all(elem in numberedItem for elem in row):   \n",
    "                validated_item_set.append(row)\n",
    "                break\n",
    "    newItemSet = pd.DataFrame({'ItemSet':validated_item_set})\n",
    "    return newItemSet"
   ]
  },
  {
   "cell_type": "code",
   "execution_count": null,
   "metadata": {},
   "outputs": [],
   "source": [
    "while True:\n",
    "    new_L = removeLowestItemSet(list_C[-1])\n",
    "    if len(new_L) <= 1:\n",
    "        break\n",
    "    list_L.append(new_L)\n",
    "    #print(list_L[-1])\n",
    "    \n",
    "    new_C = findNextC(list_L[-1])\n",
    "    new_C = validate_item_set(new_C)\n",
    "    new_C = countItemSet(new_C)\n",
    "    #print(new_C)\n",
    "    list_C.append(new_C)"
   ]
  },
  {
   "cell_type": "code",
   "execution_count": null,
   "metadata": {},
   "outputs": [],
   "source": [
    "print(list_C[-1])"
   ]
  },
  {
   "cell_type": "code",
   "execution_count": null,
   "metadata": {
    "collapsed": true
   },
   "outputs": [],
   "source": []
  }
 ],
 "metadata": {
  "kernelspec": {
   "display_name": "Python 3",
   "language": "python",
   "name": "python3"
  },
  "language_info": {
   "codemirror_mode": {
    "name": "ipython",
    "version": 3
   },
   "file_extension": ".py",
   "mimetype": "text/x-python",
   "name": "python",
   "nbconvert_exporter": "python",
   "pygments_lexer": "ipython3",
   "version": "3.6.1"
  }
 },
 "nbformat": 4,
 "nbformat_minor": 2
}
